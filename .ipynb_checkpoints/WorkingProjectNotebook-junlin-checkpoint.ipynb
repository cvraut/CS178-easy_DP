{
 "cells": [
  {
   "cell_type": "code",
   "execution_count": null,
   "metadata": {},
   "outputs": [],
   "source": [
    "from __future__ import division\n",
    "\n",
    "import numpy as np\n",
    "import pandas as pd\n",
    "import matplotlib.pyplot as plt\n",
    "from sklearn.utils import shuffle\n",
    "#import mltools as ml\n",
    "import time\n",
    "\n",
    "\n",
    "np.random.seed(0)\n",
    "%matplotlib inline"
   ]
  },
  {
   "cell_type": "code",
   "execution_count": null,
   "metadata": {},
   "outputs": [],
   "source": [
    "X = np.genfromtxt('data/X_train.txt', delimiter=None)\n",
    "Y = np.genfromtxt('data/Y_train.txt', delimiter=None)\n",
    "X = shuffle(X)\n",
    "Y = shuffle(Y)"
   ]
  },
  {
   "cell_type": "code",
   "execution_count": null,
   "metadata": {},
   "outputs": [],
   "source": [
    "for f in range(X.shape[1]):\n",
    "    print \"Feature #{:3d}\".format(f+1)\n",
    "    print \"    min:      {}\".format(min(X[:,f]))\n",
    "    print \"    max:      {}\".format(max(X[:,f]))\n",
    "    print \"    mean:     {}\".format(np.mean(X[:,f]))\n",
    "    print \"    variance: {}\".format(np.var(X[:,f]))"
   ]
  },
  {
   "cell_type": "markdown",
   "metadata": {},
   "source": [
    "so yeah this is just the reading input part done..."
   ]
  },
  {
   "cell_type": "code",
   "execution_count": null,
   "metadata": {},
   "outputs": [],
   "source": [
    "X_train = pd.read_csv('data/X_train.txt', sep= \" \",header = None)\n",
    "Y_train = pd.read_csv('data/Y_train.txt', sep= \" \",header = None)\n",
    "X_test = pd.read_csv('data/X_test.txt', sep= \" \",header = None)\n"
   ]
  },
  {
   "cell_type": "code",
   "execution_count": null,
   "metadata": {
    "scrolled": false
   },
   "outputs": [],
   "source": [
    "from sklearn import preprocessing\n",
    "X_train = preprocessing.robust_scale(X_train)\n",
    "X_train = pd.DataFrame(X_train)\n",
    "\n",
    "last_feature = X_train[13]\n",
    "last_feature = preprocessing.maxabs_scale(last_feature)\n",
    "\n",
    "\n",
    "#X_train = preprocessing.scale(X_train)\n",
    "\n",
    "\n",
    "\n",
    "X_train = pd.DataFrame(X_train)\n",
    "\n",
    "\n",
    "X_sparse = X_train\n",
    "X_sparse[13] = last_feature\n",
    "X_sparse = X_sparse.drop([9],axis=1)\n",
    "X_test = X_test.drop([9],axis=1)\n",
    "#X_train = X_train.drop([13],axis=1)\n",
    "#X_test = X_test.drop([13],axis=1)\n",
    "\n",
    "\n",
    "X_train = X_sparse\n",
    "print(X_train.head())\n",
    "\n",
    "#print(last_feature)\n",
    "\n",
    "train = X_train.copy(True)\n",
    "train = pd.DataFrame(train)\n",
    "train[\"result\"] = Y_train"
   ]
  },
  {
   "cell_type": "code",
   "execution_count": null,
   "metadata": {},
   "outputs": [],
   "source": [
    "\n",
    "import seaborn as sns\n",
    "colormap = plt.cm.RdBu\n",
    "plt.figure(figsize=(14,12))\n",
    "#plt.title('Pearson Correlation of Features', y=1.05, size=15)\n",
    "sns.heatmap(X_train.astype(float).corr(),cmap=colormap, annot=True)"
   ]
  },
  {
   "cell_type": "code",
   "execution_count": null,
   "metadata": {},
   "outputs": [],
   "source": [
    "#plt.figure(figsize=(14,20))\n",
    "#g = sns.pairplot(train, hue=\"result\",palette = 'seismic',size=1.2,diag_kind = 'kde',diag_kws=dict(shade=True),plot_kws=dict(s=10) )\n",
    "#g.set(xticklabels=[])"
   ]
  },
  {
   "cell_type": "markdown",
   "metadata": {},
   "source": [
    "### KNN\n"
   ]
  },
  {
   "cell_type": "code",
   "execution_count": null,
   "metadata": {
    "scrolled": false
   },
   "outputs": [],
   "source": [
    "from sklearn.neighbors import KNeighborsClassifier\n",
    "from sklearn.model_selection import KFold\n",
    "from sklearn.model_selection import cross_val_score\n",
    "from sklearn.model_selection import ShuffleSplit\n",
    "import time\n",
    "Y_train = np.array(Y_train)\n",
    "Y_train = Y_train.ravel()\n",
    "f,ax = plt.subplots(1,1)\n",
    "ids = range(0,X_test.shape[0])\n",
    "xs = []\n",
    "ys = []\n",
    "'''\n",
    "for i in range(3, 50,5):\n",
    "    print(\"Neighbhors:\",i)\n",
    "    knn = KNeighborsClassifier(n_neighbors=i, p=2,n_jobs=-1)\n",
    "    knn.fit(X_train,Y_train)\n",
    "    cv = ShuffleSplit(n_splits=4,random_state=0)\n",
    "    scores = cross_val_score(knn, X_train, Y_train, cv=cv).mean()\n",
    "    xs.append(i)\n",
    "    ys.append(scores)\n",
    "    print(\"Scores:\",scores)\n",
    "'''\n",
    "ax.plot(xs,ys)\n",
    "plt.show()\n",
    "knn = KNeighborsClassifier(n_neighbors=8, p=2,n_jobs=-1)\n",
    "\n",
    "knn.fit(X_train,Y_train)\n",
    "y_pred = knn.predict(X_test)\n",
    "cv = ShuffleSplit(n_splits=4,random_state=0)\n",
    "scores = cross_val_score(knn, X_train, Y_train, cv=cv).mean()\n",
    "print(\"score:\",knn.score(X_train,Y_train))\n",
    "print(\"cv score:\",scores)"
   ]
  },
  {
   "cell_type": "markdown",
   "metadata": {},
   "source": [
    "### Random Forest"
   ]
  },
  {
   "cell_type": "code",
   "execution_count": null,
   "metadata": {},
   "outputs": [],
   "source": [
    "from sklearn.ensemble import RandomForestClassifier\n",
    "\n",
    "'''\n",
    "for i in range(7, 32,1):\n",
    "    print(\"Depth:\",i)\n",
    "    random_forest = RandomForestClassifier(max_depth = i)\n",
    "    random_forest.fit(X_train,Y_train)\n",
    "    cv = ShuffleSplit(n_splits=4,random_state=0)\n",
    "    scores = cross_val_score(random_forest, X_train, Y_train, cv=cv)\n",
    "    \n",
    "    print(\"Scores:\",scores)\n",
    "'''\n",
    "'''\n",
    "submission = pd.DataFrame({ 'ID': list(id),\n",
    "                            'Prob1': Y_pred1 })\n",
    "submission.to_csv(\"submission3.csv\",index=False)\n",
    "'''\n",
    "random_forest = RandomForestClassifier(max_depth = 23)\n",
    "random_forest.fit(X_train,Y_train)\n",
    "Y_pred1 = random_forest.predict(X_test)\n",
    "cv = ShuffleSplit(n_splits=4,random_state=0)\n",
    "scores = cross_val_score(random_forest, X_train, Y_train, cv=cv).mean()\n",
    "print(\"score:\",random_forest.score(X_train,Y_train))\n",
    "print(\"cv score:\",scores)\n",
    "print(\"feature importance:\", random_forest.feature_importances_)\n"
   ]
  },
  {
   "cell_type": "markdown",
   "metadata": {},
   "source": [
    "### Logistic Regression"
   ]
  },
  {
   "cell_type": "code",
   "execution_count": null,
   "metadata": {},
   "outputs": [],
   "source": [
    "from sklearn.linear_model import LogisticRegression\n",
    "start_time = time.time()\n",
    "lr = LogisticRegression(max_iter = 200)\n",
    "lr.fit(X_train,Y_train)\n",
    "print(\"--- %s seconds ---\" % (round(time.time() - start_time,2)))\n",
    "print(lr.score(X_train,Y_train))\n",
    "cv = ShuffleSplit(n_splits=4,random_state=0)\n",
    "scores = cross_val_score(lr, X_train, Y_train, cv=cv).mean()\n",
    "print(\"cv score:\",scores)\n",
    "y_pred2 = lr.predict(X_test)\n",
    "'''\n",
    "submission = pd.DataFrame({ 'ID': list(ids),\n",
    "                            'Prob1': y_pred2 })\n",
    "submission.to_csv(\"submission4.csv\",index=False)'''"
   ]
  },
  {
   "cell_type": "markdown",
   "metadata": {},
   "source": [
    "### SVC"
   ]
  },
  {
   "cell_type": "code",
   "execution_count": null,
   "metadata": {},
   "outputs": [],
   "source": [
    "from sklearn.svm import SVC\n",
    "start_time = time.time()\n",
    "svm = SVC(max_iter=1000)\n",
    "svm.fit(X_train,Y_train)\n",
    "print(\"--- %s seconds ---\" % (round(time.time() - start_time,2)))\n",
    "print(svm.score(X_train,Y_train)) \n",
    "cv = ShuffleSplit(n_splits=4,random_state=0)\n",
    "scores = cross_val_score(svm, X_train, Y_train, cv=cv).mean()\n",
    "print(\"cv score:\",scores)\n",
    "y_pred3 = svm.predict(X_test)"
   ]
  },
  {
   "cell_type": "markdown",
   "metadata": {},
   "source": [
    "pca,delete some features, adaboost\n"
   ]
  }
 ],
 "metadata": {
  "kernelspec": {
   "display_name": "Python 2",
   "language": "python",
   "name": "python2"
  },
  "language_info": {
   "codemirror_mode": {
    "name": "ipython",
    "version": 2
   },
   "file_extension": ".py",
   "mimetype": "text/x-python",
   "name": "python",
   "nbconvert_exporter": "python",
   "pygments_lexer": "ipython2",
   "version": "2.7.14"
  }
 },
 "nbformat": 4,
 "nbformat_minor": 2
}
