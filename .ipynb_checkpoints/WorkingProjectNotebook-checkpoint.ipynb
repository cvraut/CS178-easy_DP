{
 "cells": [
  {
   "cell_type": "code",
   "execution_count": 1,
   "metadata": {},
   "outputs": [],
   "source": [
    "from __future__ import division\n",
    "\n",
    "import numpy as np\n",
    "import matplotlib.pyplot as plt\n",
    "import mltools as ml\n",
    "import time\n",
    "\n",
    "\n",
    "#np.random.seed(0)\n",
    "%matplotlib inline"
   ]
  },
  {
   "cell_type": "code",
   "execution_count": 2,
   "metadata": {},
   "outputs": [],
   "source": [
    "orig_X = np.genfromtxt('data/X_train.txt', delimiter=None)\n",
    "Y = np.genfromtxt('data/Y_train.txt', delimiter=None)\n",
    "\n",
    "\n",
    "orig_X,Y = ml.shuffleData(orig_X,Y)"
   ]
  },
  {
   "cell_type": "code",
   "execution_count": 5,
   "metadata": {},
   "outputs": [
    {
     "name": "stdout",
     "output_type": "stream",
     "text": [
      "Feature #  1\n",
      "    min:      193.5\n",
      "    max:      253.0\n",
      "    mean:     241.6011037\n",
      "    variance: 83.4991711498\n",
      "Feature #  2\n",
      "    min:      152.5\n",
      "    max:      249.0\n",
      "    mean:     227.3765713\n",
      "    variance: 92.625593125\n",
      "Feature #  3\n",
      "    min:      214.25\n",
      "    max:      252.5\n",
      "    mean:     241.5541505\n",
      "    variance: 35.2863398033\n",
      "Feature #  4\n",
      "    min:      152.5\n",
      "    max:      252.5\n",
      "    mean:     232.82676815\n",
      "    variance: 97.6257317486\n",
      "Feature #  5\n",
      "    min:      10.0\n",
      "    max:      31048.0\n",
      "    mean:     3089.923365\n",
      "    variance: 15651513.7564\n",
      "Feature #  6\n",
      "    min:      0.0\n",
      "    max:      13630.0\n",
      "    mean:     928.25902\n",
      "    variance: 3081761.81695\n",
      "Feature #  7\n",
      "    min:      0.0\n",
      "    max:      9238.0\n",
      "    mean:     138.09383\n",
      "    variance: 443951.746446\n",
      "Feature #  8\n",
      "    min:      0.0\n",
      "    max:      125.17\n",
      "    mean:     3.2485793303\n",
      "    variance: 8.21948502491\n",
      "Feature #  9\n",
      "    min:      0.87589\n",
      "    max:      19.167\n",
      "    mean:     6.49865290275\n",
      "    variance: 6.40504819136\n",
      "Feature # 10\n",
      "    min:      0.0\n",
      "    max:      13.23\n",
      "    mean:     2.09713912048\n",
      "    variance: 4.36344047061\n",
      "Feature # 11\n",
      "    min:      0.0\n",
      "    max:      66.761\n",
      "    mean:     4.21766040935\n",
      "    variance: 4.08637188423\n",
      "Feature # 12\n",
      "    min:      0.0\n",
      "    max:      73.902\n",
      "    mean:     2.69171845215\n",
      "    variance: 2.19877847436\n",
      "Feature # 13\n",
      "    min:      0.99049\n",
      "    max:      975.04\n",
      "    mean:     10.2715904759\n",
      "    variance: 404.646245041\n",
      "Feature # 14\n",
      "    min:      -999.9\n",
      "    max:      797.2\n",
      "    mean:     5.7814805\n",
      "    variance: 3406.52055098\n"
     ]
    }
   ],
   "source": [
    "for f in range(orig_X.shape[1]):\n",
    "    print \"Feature #{:3d}\".format(f+1)\n",
    "    print \"    min:      {}\".format(min(orig_X[:,f]))\n",
    "    print \"    max:      {}\".format(max(orig_X[:,f]))\n",
    "    print \"    mean:     {}\".format(np.mean(orig_X[:,f]))\n",
    "    print \"    variance: {}\".format(np.var(orig_X[:,f]))"
   ]
  },
  {
   "cell_type": "markdown",
   "metadata": {},
   "source": [
    "so yeah this is just the reading input part done..."
   ]
  },
  {
   "cell_type": "code",
   "execution_count": 6,
   "metadata": {},
   "outputs": [
    {
     "name": "stdout",
     "output_type": "stream",
     "text": [
      "(200000, 14)\n",
      "(200000, 1)\n"
     ]
    }
   ],
   "source": [
    "import pandas as pd\n",
    "\n",
    "\n",
    "from sklearn import preprocessing\n",
    "X = preprocessing.robust_scale(orig_X)\n",
    "\n",
    "df_X = pd.DataFrame(X)\n",
    "df_Y = pd.DataFrame(Y)\n",
    "print df_X.shape\n",
    "print df_Y.shape"
   ]
  },
  {
   "cell_type": "code",
   "execution_count": 7,
   "metadata": {},
   "outputs": [
    {
     "name": "stdout",
     "output_type": "stream",
     "text": [
      "(2000, 14)\n",
      "(2000, 1)\n"
     ]
    }
   ],
   "source": [
    "df_x = df_X[:2000]\n",
    "df_y = df_Y[:2000]\n",
    "print df_x.shape\n",
    "print df_y.shape"
   ]
  },
  {
   "cell_type": "code",
   "execution_count": null,
   "metadata": {},
   "outputs": [],
   "source": [
    "import seaborn as sns\n",
    "#sns.pairplot(df_x)"
   ]
  },
  {
   "cell_type": "markdown",
   "metadata": {},
   "source": [
    "so currently looking at split on x3 and choose one feature from {x1,x2,x9,x8} also drop x13 & x12"
   ]
  },
  {
   "cell_type": "code",
   "execution_count": null,
   "metadata": {
    "scrolled": true
   },
   "outputs": [],
   "source": [
    "cooment = '''\n",
    "for a in range(13):\n",
    "    for b in range(a+1,14):\n",
    "        print \"x{} vs x{}\".format(a,b)\n",
    "        %matplotlib inline\n",
    "        fig,ax = plt.subplots(1,1,figsize=(16,10))\n",
    "        ax.scatter(X[:,a][Y==0],X[:,b][Y==0],color=\"b\",alpha=0.2,s=5)\n",
    "        ax.scatter(X[:,a][Y==1],X[:,b][Y==1],color=\"r\",alpha=0.2,s=5)\n",
    "\n",
    "        plt.show()\n",
    "%matplotlib inline\n",
    "'''"
   ]
  },
  {
   "cell_type": "code",
   "execution_count": null,
   "metadata": {},
   "outputs": [],
   "source": [
    "#learner = ml.dtree.treeClassify(X,Y,maxDepth=50)"
   ]
  },
  {
   "cell_type": "code",
   "execution_count": 8,
   "metadata": {},
   "outputs": [
    {
     "name": "stdout",
     "output_type": "stream",
     "text": [
      "[0.54174007046764894, 0.54729729729729737, 0.55405405405405406, 0.54054054054054057, 0.58783783783783783, 0.56531531531531543]\n"
     ]
    }
   ],
   "source": [
    "from sklearn import tree\n",
    "from sklearn.metrics import roc_curve, auc\n",
    "from sklearn.model_selection import StratifiedKFold\n",
    "\n",
    "cv = StratifiedKFold(n_splits=6)\n",
    "clf = tree.DecisionTreeClassifier(max_depth=100)\n",
    "aucs = []\n",
    "for train, test in cv.split(df_x, df_y):\n",
    "    clf = clf.fit(df_x.iloc[train],df_y.iloc[train])\n",
    "    probs = clf.predict_proba(df_x.iloc[test])\n",
    "    fpr, tpr, thresholds = roc_curve(df_y.iloc[test], probs[:, 1])\n",
    "    aucs.append(auc(fpr,tpr))\n",
    "print aucs"
   ]
  },
  {
   "cell_type": "code",
   "execution_count": 9,
   "metadata": {},
   "outputs": [
    {
     "name": "stdout",
     "output_type": "stream",
     "text": [
      "(200000, 120)\n",
      "(2000, 120)\n",
      "120\n"
     ]
    },
    {
     "name": "stderr",
     "output_type": "stream",
     "text": [
      "c:\\python27\\lib\\site-packages\\sklearn\\utils\\validation.py:578: DataConversionWarning: A column-vector y was passed when a 1d array was expected. Please change the shape of y to (n_samples, ), for example using ravel().\n",
      "  y = column_or_1d(y, warn=True)\n"
     ]
    },
    {
     "name": "stdout",
     "output_type": "stream",
     "text": [
      "[111   1  69  21  70  29  88  71  66  31 101  79   1  36  76  30  65   1\n",
      "  44   1  58  33   1   6  27  52  15   5 104  73  38  67  83  43 106  80\n",
      "  23  10   1  13  98 103  54  94   1  77 102  60  78  42  34   7  12  84\n",
      "  75  16  57  91   8  45 100  41  39  19  82  11  35 105  51  40  18   9\n",
      "   4  49  59  26  90  28  32   1  55  37   3  86  92  63 109  87  97  93\n",
      "  99  96  22  62  72  56  61   1  20  68  74  46  25   2 108  64  89  53\n",
      "  85  95   1  50  48  81  14  24  47  17 107 110]\n"
     ]
    }
   ],
   "source": [
    "from sklearn.feature_selection import RFE\n",
    "from sklearn.linear_model import LogisticRegression\n",
    "from sklearn.preprocessing import PolynomialFeatures\n",
    "\n",
    "poly = PolynomialFeatures(2)\n",
    "df_poly_X = poly.fit_transform(df_X)\n",
    "print df_poly_X.shape\n",
    "\n",
    "df_poly_x = poly.fit_transform(df_x)\n",
    "print df_poly_x.shape\n",
    "\n",
    "print len(poly.get_feature_names())\n",
    "\n",
    "logisticRegr = LogisticRegression()\n",
    "selector = RFE(clf, 10, step=1)\n",
    "selector = selector.fit(df_poly_x,df_y)\n",
    "print selector.ranking_"
   ]
  },
  {
   "cell_type": "code",
   "execution_count": null,
   "metadata": {},
   "outputs": [],
   "source": [
    "from collections import Counter\n",
    "for i in range(len(selector.support_)):\n",
    "    if selector.support_[i]:\n",
    "        print poly.get_feature_names()[i]"
   ]
  },
  {
   "cell_type": "code",
   "execution_count": null,
   "metadata": {},
   "outputs": [],
   "source": [
    "filtered_X = selector.transform(df_poly_X)\n",
    "filtered_X = pd.DataFrame(filtered_X)\n",
    "print filtered_X.shape\n",
    "print df_poly_X.shape"
   ]
  },
  {
   "cell_type": "code",
   "execution_count": null,
   "metadata": {},
   "outputs": [],
   "source": [
    "cv = StratifiedKFold(n_splits=6)\n",
    "aucs = []\n",
    "for train, test in cv.split(filtered_X, df_Y):\n",
    "    logisticRegr = logisticRegr.fit(filtered_X.iloc[train],df_Y.iloc[train])\n",
    "    probs = logisticRegr.predict_proba(filtered_X.iloc[test])\n",
    "    fpr, tpr, thresholds = roc_curve(df_Y.iloc[test], probs[:, 1])\n",
    "    aucs.append(auc(fpr,tpr))\n",
    "print aucs"
   ]
  },
  {
   "cell_type": "code",
   "execution_count": null,
   "metadata": {},
   "outputs": [],
   "source": [
    "c = \"\"\"\n",
    "cv = StratifiedKFold(n_splits=6)\n",
    "aucs = []\n",
    "from sklearn.ensemble import RandomForestClassifier\n",
    "for j in range(11,31):\n",
    "    clf = RandomForestClassifier(max_depth=j)\n",
    "    selector = RFE(clf, 20, step=1)\n",
    "    selector = selector.fit(df_poly_x,df_y)\n",
    "    filtered_X = selector.transform(df_poly_X)\n",
    "    filtered_X = pd.DataFrame(filtered_X)\n",
    "    print filtered_X.shape\n",
    "    aucs_j = []\n",
    "    for train, test in cv.split(filtered_X, df_Y):\n",
    "        clf = clf.fit(filtered_X.iloc[train],df_Y.iloc[train])\n",
    "        probs = clf.predict_proba(filtered_X.iloc[test])\n",
    "        fpr, tpr, thresholds = roc_curve(df_Y.iloc[test], probs[:, 1])\n",
    "        aucs_j.append(auc(fpr,tpr))\n",
    "    print aucs_j,j\n",
    "    aucs.append((np.mean(aucs_j),j))\n",
    "    if len(aucs) > 1 and aucs[-2]>aucs[-1]:\n",
    "        break;\n",
    "print aucs\n",
    "\"\"\""
   ]
  },
  {
   "cell_type": "code",
   "execution_count": null,
   "metadata": {},
   "outputs": [],
   "source": [
    "cv = StratifiedKFold(n_splits=6)\n",
    "aucs = []\n",
    "\n",
    "df_poly_orig_X = poly.fit_transform(orig_X)\n",
    "clf = RandomForestClassifier(max_depth=20)\n",
    "filtered_X = pd.DataFrame(df_poly_orig_X)\n",
    "print filtered_X.shape\n",
    "\n",
    "from sklearn.ensemble import RandomForestClassifier\n",
    "for j in range(19,31):    \n",
    "    aucs_j = []\n",
    "    for train, test in cv.split(filtered_X, df_Y):\n",
    "        clf = clf.fit(filtered_X.iloc[train],df_Y.iloc[train])\n",
    "        probs = clf.predict_proba(filtered_X.iloc[test])\n",
    "        fpr, tpr, thresholds = roc_curve(df_Y.iloc[test], probs[:, 1])\n",
    "        aucs_j.append(auc(fpr,tpr))\n",
    "    print aucs_j,j\n",
    "    aucs.append((np.mean(aucs_j),j))\n",
    "    if len(aucs) > 1 and max(aucs[:-1])[0]-aucs[-1][0] > 0.05:\n",
    "        break;\n",
    "print aucs"
   ]
  },
  {
   "cell_type": "code",
   "execution_count": null,
   "metadata": {},
   "outputs": [],
   "source": [
    "print max(aucs)"
   ]
  },
  {
   "cell_type": "code",
   "execution_count": null,
   "metadata": {},
   "outputs": [],
   "source": [
    "df_poly_orig_X = poly.fit_transform(orig_X)\n",
    "clf = RandomForestClassifier(max_depth=20)\n",
    "filtered_X = pd.DataFrame(df_poly_orig_X)\n",
    "print filtered_X.shape\n",
    "\n",
    "aucs_j = []\n",
    "for train, test in cv.split(filtered_X, df_Y):\n",
    "    clf = clf.fit(filtered_X.iloc[train],df_Y.iloc[train])\n",
    "    probs = clf.predict_proba(filtered_X.iloc[test])\n",
    "    fpr, tpr, thresholds = roc_curve(df_Y.iloc[test], probs[:, 1])\n",
    "    aucs_j.append(auc(fpr,tpr))\n",
    "print aucs_j,j\n",
    "print mean(aucs_j)"
   ]
  },
  {
   "cell_type": "code",
   "execution_count": null,
   "metadata": {},
   "outputs": [],
   "source": [
    "np.mean(aucs_j)"
   ]
  }
 ],
 "metadata": {
  "kernelspec": {
   "display_name": "Python 2",
   "language": "python",
   "name": "python2"
  },
  "language_info": {
   "codemirror_mode": {
    "name": "ipython",
    "version": 2
   },
   "file_extension": ".py",
   "mimetype": "text/x-python",
   "name": "python",
   "nbconvert_exporter": "python",
   "pygments_lexer": "ipython2",
   "version": "2.7.14"
  }
 },
 "nbformat": 4,
 "nbformat_minor": 2
}
