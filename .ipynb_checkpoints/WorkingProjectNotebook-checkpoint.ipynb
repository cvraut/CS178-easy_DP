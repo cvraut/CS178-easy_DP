{
 "cells": [
  {
   "cell_type": "code",
   "execution_count": 1,
   "metadata": {},
   "outputs": [],
   "source": [
    "from __future__ import division\n",
    "\n",
    "import numpy as np\n",
    "import matplotlib.pyplot as plt\n",
    "import mltools as ml\n",
    "import time\n",
    "\n",
    "\n",
    "#np.random.seed(0)\n",
    "%matplotlib inline"
   ]
  },
  {
   "cell_type": "code",
   "execution_count": 12,
   "metadata": {},
   "outputs": [],
   "source": [
    "orig_X = np.genfromtxt('data/X_train.txt', delimiter=None)\n",
    "Y = np.genfromtxt('data/Y_train.txt', delimiter=None)\n",
    "test_X = np.genfromtxt('data/X_test.txt',delimiter=None)\n",
    "\n",
    "orig_X,Y = ml.shuffleData(orig_X,Y)"
   ]
  },
  {
   "cell_type": "code",
   "execution_count": 9,
   "metadata": {},
   "outputs": [
    {
     "name": "stdout",
     "output_type": "stream",
     "text": [
      "Feature #  0\n",
      "    min:      193.5    min:      193.0\n",
      "    max:      253.0    max:      253.0\n",
      "    mean:     241.6011037    mean:     241.6357377\n",
      "    variance: 83.4991711498    variance: 83.0210963348\n",
      "Feature #  1\n",
      "    min:      152.5    min:      190.0\n",
      "    max:      249.0    max:      250.5\n",
      "    mean:     227.3765713    mean:     227.4260077\n",
      "    variance: 92.625593125    variance: 91.8753024705\n",
      "Feature #  2\n",
      "    min:      214.25    min:      214.25\n",
      "    max:      252.5    max:      252.5\n",
      "    mean:     241.5541505    mean:     241.5964344\n",
      "    variance: 35.2863398033    variance: 35.0991305405\n",
      "Feature #  3\n",
      "    min:      152.5    min:      204.42\n",
      "    max:      252.5    max:      252.5\n",
      "    mean:     232.82676815    mean:     232.8601144\n",
      "    variance: 97.6257317486    variance: 97.1176166369\n",
      "Feature #  4\n",
      "    min:      10.0    min:      10.0\n",
      "    max:      31048.0    max:      31048.0\n",
      "    mean:     3089.923365    mean:     3080.187265\n",
      "    variance: 15651513.7564    variance: 15431666.549\n",
      "Feature #  5\n",
      "    min:      0.0    min:      0.0\n",
      "    max:      13630.0    max:      13630.0\n",
      "    mean:     928.25902    mean:     918.59724\n",
      "    variance: 3081761.81695    variance: 3022752.28103\n",
      "Feature #  6\n",
      "    min:      0.0    min:      0.0\n",
      "    max:      9238.0    max:      9238.0\n",
      "    mean:     138.09383    mean:     136.93826\n",
      "    variance: 443951.746446    variance: 440004.896518\n",
      "Feature #  7\n",
      "    min:      0.0    min:      0.0\n",
      "    max:      125.17    max:      35.796\n",
      "    mean:     3.2485793303    mean:     3.2594025519\n",
      "    variance: 8.21948502491    variance: 8.14763134766\n",
      "Feature #  8\n",
      "    min:      0.87589    min:      0.68146\n",
      "    max:      19.167    max:      19.899\n",
      "    mean:     6.49865290275    mean:     6.4866141978\n",
      "    variance: 6.40504819136    variance: 6.38741200246\n",
      "Feature #  9\n",
      "    min:      0.0    min:      0.0\n",
      "    max:      13.23    max:      13.23\n",
      "    mean:     2.09713912048    mean:     2.08465544962\n",
      "    variance: 4.36344047061    variance: 4.33624136242\n",
      "Feature # 10\n",
      "    min:      0.0    min:      0.0\n",
      "    max:      66.761    max:      21.89\n",
      "    mean:     4.21766040935    mean:     4.2114955478\n",
      "    variance: 4.08637188423    variance: 4.07954878009\n",
      "Feature # 11\n",
      "    min:      0.0    min:      0.0\n",
      "    max:      73.902    max:      46.544\n",
      "    mean:     2.69171845215    mean:     2.68249078835\n",
      "    variance: 2.19877847436    variance: 2.12509585754\n",
      "Feature # 12\n",
      "    min:      0.99049    min:      0.99049\n",
      "    max:      975.04    max:      975.04\n",
      "    mean:     10.2715904759    mean:     10.3554691844\n",
      "    variance: 404.646245041    variance: 438.378004104\n",
      "Feature # 13\n",
      "    min:      -999.9    min:      -999.9\n",
      "    max:      797.2    max:      782.5\n",
      "    mean:     5.7814805    mean:     5.6901545\n",
      "    variance: 3406.52055098    variance: 3579.53372052\n"
     ]
    }
   ],
   "source": [
    "for f in range(orig_X.shape[1]):\n",
    "    print \"Feature #{:3d}\".format(f)\n",
    "    print \"    min:      {}    min:      {}\".format(min(orig_X[:,f]),min(test_X[:,f]))\n",
    "    print \"    max:      {}    max:      {}\".format(max(orig_X[:,f]),max(test_X[:,f]))\n",
    "    print \"    mean:     {}    mean:     {}\".format(np.mean(orig_X[:,f]),np.mean(test_X[:,f]))\n",
    "    print \"    variance: {}    variance: {}\".format(np.var(orig_X[:,f]),np.var(test_X[:,f]))"
   ]
  },
  {
   "cell_type": "code",
   "execution_count": 13,
   "metadata": {},
   "outputs": [
    {
     "name": "stdout",
     "output_type": "stream",
     "text": [
      "(200000, 9)\n",
      "(200000, 9)\n"
     ]
    }
   ],
   "source": [
    "orig_X = np.delete(orig_X,[4,5,6,12,13],1)\n",
    "test_X = np.delete(test_X,[4,5,6,12,13],1)\n",
    "print orig_X.shape\n",
    "print test_X.shape"
   ]
  },
  {
   "cell_type": "markdown",
   "metadata": {},
   "source": [
    "so yeah this is just the reading input part done..."
   ]
  },
  {
   "cell_type": "code",
   "execution_count": 14,
   "metadata": {},
   "outputs": [
    {
     "name": "stdout",
     "output_type": "stream",
     "text": [
      "(200000, 9)\n",
      "(200000, 1)\n"
     ]
    }
   ],
   "source": [
    "import pandas as pd\n",
    "\n",
    "\n",
    "from sklearn import preprocessing\n",
    "#X = preprocessing.robust_scale(orig_X)\n",
    "\n",
    "df_X = pd.DataFrame(orig_X)\n",
    "df_Y = pd.DataFrame(Y)\n",
    "print df_X.shape\n",
    "print df_Y.shape"
   ]
  },
  {
   "cell_type": "code",
   "execution_count": 15,
   "metadata": {},
   "outputs": [
    {
     "name": "stdout",
     "output_type": "stream",
     "text": [
      "(2000, 9)\n",
      "(2000, 1)\n"
     ]
    }
   ],
   "source": [
    "df_x = df_X[:2000]\n",
    "df_y = df_Y[:2000]\n",
    "print df_x.shape\n",
    "print df_y.shape"
   ]
  },
  {
   "cell_type": "code",
   "execution_count": 6,
   "metadata": {},
   "outputs": [],
   "source": [
    "import seaborn as sns\n",
    "#sns.pairplot(df_x)"
   ]
  },
  {
   "cell_type": "markdown",
   "metadata": {},
   "source": [
    "so currently looking at split on x3 and choose one feature from {x1,x2,x9,x8} also drop x13 & x12"
   ]
  },
  {
   "cell_type": "code",
   "execution_count": 7,
   "metadata": {
    "scrolled": true
   },
   "outputs": [],
   "source": [
    "cooment = '''\n",
    "for a in range(13):\n",
    "    for b in range(a+1,14):\n",
    "        print \"x{} vs x{}\".format(a,b)\n",
    "        %matplotlib inline\n",
    "        fig,ax = plt.subplots(1,1,figsize=(16,10))\n",
    "        ax.scatter(X[:,a][Y==0],X[:,b][Y==0],color=\"b\",alpha=0.2,s=5)\n",
    "        ax.scatter(X[:,a][Y==1],X[:,b][Y==1],color=\"r\",alpha=0.2,s=5)\n",
    "\n",
    "        plt.show()\n",
    "%matplotlib inline\n",
    "'''"
   ]
  },
  {
   "cell_type": "code",
   "execution_count": 8,
   "metadata": {},
   "outputs": [],
   "source": [
    "#learner = ml.dtree.treeClassify(X,Y,maxDepth=50)"
   ]
  },
  {
   "cell_type": "code",
   "execution_count": 16,
   "metadata": {},
   "outputs": [
    {
     "name": "stdout",
     "output_type": "stream",
     "text": [
      "[0.54354503773782092, 0.54218865729696331]\n"
     ]
    }
   ],
   "source": [
    "from sklearn import tree\n",
    "from sklearn.metrics import roc_curve, auc\n",
    "from sklearn.model_selection import StratifiedKFold\n",
    "\n",
    "cv = StratifiedKFold(n_splits=2)\n",
    "clf = tree.DecisionTreeClassifier(max_depth=100)\n",
    "aucs = []\n",
    "for train, test in cv.split(df_x, df_y):\n",
    "    clf = clf.fit(df_x.iloc[train],df_y.iloc[train])\n",
    "    probs = clf.predict_proba(df_x.iloc[test])\n",
    "    fpr, tpr, thresholds = roc_curve(df_y.iloc[test], probs[:, 1])\n",
    "    aucs.append(auc(fpr,tpr))\n",
    "print aucs"
   ]
  },
  {
   "cell_type": "code",
   "execution_count": 17,
   "metadata": {},
   "outputs": [
    {
     "name": "stdout",
     "output_type": "stream",
     "text": [
      "(200000, 55)\n",
      "(2000, 55)\n",
      "55\n"
     ]
    },
    {
     "name": "stderr",
     "output_type": "stream",
     "text": [
      "c:\\python27\\lib\\site-packages\\sklearn\\utils\\validation.py:578: DataConversionWarning: A column-vector y was passed when a 1d array was expected. Please change the shape of y to (n_samples, ), for example using ravel().\n",
      "  y = column_or_1d(y, warn=True)\n"
     ]
    }
   ],
   "source": [
    "from sklearn.feature_selection import RFE\n",
    "from sklearn.linear_model import LogisticRegression\n",
    "from sklearn.preprocessing import PolynomialFeatures\n",
    "\n",
    "poly = PolynomialFeatures(2)\n",
    "df_poly_X = poly.fit_transform(df_X)\n",
    "print df_poly_X.shape\n",
    "\n",
    "df_poly_x = poly.fit_transform(df_x)\n",
    "print df_poly_x.shape\n",
    "\n",
    "print len(poly.get_feature_names())\n",
    "\n",
    "logisticRegr = LogisticRegression()\n",
    "selector = RFE(clf, 10, step=1)\n",
    "selector = selector.fit(df_poly_x,df_y)\n",
    "#print selector.ranking_"
   ]
  },
  {
   "cell_type": "code",
   "execution_count": 13,
   "metadata": {},
   "outputs": [
    {
     "name": "stdout",
     "output_type": "stream",
     "text": [
      "x3\n",
      "x0 x2\n",
      "x0 x5\n",
      "x0 x6\n",
      "x1 x9\n",
      "x2 x9\n",
      "x5^2\n",
      "x5 x6\n",
      "x5 x8\n",
      "x5 x9\n"
     ]
    }
   ],
   "source": [
    "from collections import Counter\n",
    "for i in range(len(selector.support_)):\n",
    "    if selector.support_[i]:\n",
    "        print poly.get_feature_names()[i]"
   ]
  },
  {
   "cell_type": "code",
   "execution_count": 18,
   "metadata": {},
   "outputs": [
    {
     "name": "stdout",
     "output_type": "stream",
     "text": [
      "(200000, 55)\n",
      "(200000, 55)\n",
      "(2000, 55)\n"
     ]
    }
   ],
   "source": [
    "filtered_X = np.copy(df_poly_X)\n",
    "filtered_X = pd.DataFrame(filtered_X)\n",
    "print filtered_X.shape\n",
    "print df_poly_X.shape\n",
    "filtered_x = pd.DataFrame(df_poly_x)\n",
    "print filtered_x.shape"
   ]
  },
  {
   "cell_type": "code",
   "execution_count": 19,
   "metadata": {},
   "outputs": [
    {
     "name": "stdout",
     "output_type": "stream",
     "text": [
      "[0.65520105582288513, 0.65121636180286591]\n"
     ]
    }
   ],
   "source": [
    "cv = StratifiedKFold(n_splits=2)\n",
    "aucs = []\n",
    "for train, test in cv.split(filtered_X, df_Y):\n",
    "    logisticRegr = logisticRegr.fit(filtered_X.iloc[train],df_Y.iloc[train])\n",
    "    probs = logisticRegr.predict_proba(filtered_X.iloc[test])\n",
    "    fpr, tpr, thresholds = roc_curve(df_Y.iloc[test], probs[:, 1])\n",
    "    aucs.append(auc(fpr,tpr))\n",
    "print aucs"
   ]
  },
  {
   "cell_type": "code",
   "execution_count": 14,
   "metadata": {},
   "outputs": [],
   "source": [
    "c = \"\"\"\n",
    "cv = StratifiedKFold(n_splits=6)\n",
    "aucs = []\n",
    "from sklearn.ensemble import RandomForestClassifier\n",
    "for j in range(11,31):\n",
    "    clf = RandomForestClassifier(max_depth=j)\n",
    "    selector = RFE(clf, 20, step=1)\n",
    "    selector = selector.fit(df_poly_x,df_y)\n",
    "    filtered_X = selector.transform(df_poly_X)\n",
    "    filtered_X = pd.DataFrame(filtered_X)\n",
    "    print filtered_X.shape\n",
    "    aucs_j = []\n",
    "    for train, test in cv.split(filtered_X, df_Y):\n",
    "        clf = clf.fit(filtered_X.iloc[train],df_Y.iloc[train])\n",
    "        probs = clf.predict_proba(filtered_X.iloc[test])\n",
    "        fpr, tpr, thresholds = roc_curve(df_Y.iloc[test], probs[:, 1])\n",
    "        aucs_j.append(auc(fpr,tpr))\n",
    "    print aucs_j,j\n",
    "    aucs.append((np.mean(aucs_j),j))\n",
    "    if len(aucs) > 1 and aucs[-2]>aucs[-1]:\n",
    "        break;\n",
    "print aucs\n",
    "\"\"\""
   ]
  },
  {
   "cell_type": "code",
   "execution_count": 21,
   "metadata": {},
   "outputs": [
    {
     "name": "stdout",
     "output_type": "stream",
     "text": [
      "(200000, 55)\n"
     ]
    }
   ],
   "source": [
    "from sklearn.ensemble import RandomForestClassifier\n",
    "\n",
    "cv = StratifiedKFold(n_splits=2)\n",
    "aucs = []\n",
    "\n",
    "df_poly_orig_X = poly.fit_transform(orig_X)\n",
    "\n",
    "filtered_X = pd.DataFrame(df_poly_orig_X)\n",
    "print filtered_X.shape"
   ]
  },
  {
   "cell_type": "code",
   "execution_count": 23,
   "metadata": {},
   "outputs": [
    {
     "name": "stderr",
     "output_type": "stream",
     "text": [
      "c:\\python27\\lib\\site-packages\\ipykernel_launcher.py:5: DataConversionWarning: A column-vector y was passed when a 1d array was expected. Please change the shape of y to (n_samples,), for example using ravel().\n",
      "  \"\"\"\n"
     ]
    },
    {
     "name": "stdout",
     "output_type": "stream",
     "text": [
      "[0.74125179971070765, 0.74165306066934378] 5\n",
      "[0.74225141085119228, 0.73871408313959874] 6\n",
      "[0.73998868775142768, 0.73832950372033312] 7\n",
      "[0.73791819445664364, 0.7405022729734051] 8\n",
      "[0.7405236950069447, 0.73750929301604184] 9\n",
      "[(0.74145243019002571, 5), (0.74048274699539551, 6), (0.73915909573588046, 7), (0.73921023371502437, 8), (0.73901649401149327, 9)]\n"
     ]
    }
   ],
   "source": [
    "for j in range(5,10,1):    \n",
    "    aucs_j = []\n",
    "    clf = RandomForestClassifier(max_depth=33,min_samples_leaf=5)\n",
    "    for train, test in cv.split(filtered_X, df_Y):\n",
    "        clf = clf.fit(filtered_X.iloc[train],df_Y.iloc[train])\n",
    "        probs = clf.predict_proba(filtered_X.iloc[test])\n",
    "        fpr, tpr, thresholds = roc_curve(df_Y.iloc[test], probs[:, 1])\n",
    "        aucs_j.append(auc(fpr,tpr))\n",
    "    print aucs_j,j\n",
    "    aucs.append((np.mean(aucs_j),j))\n",
    "    if len(aucs) > 1 and max(aucs[:-1])[0]-aucs[-1][0] > 0.005:\n",
    "        break;\n",
    "print aucs\n",
    "# best random forest at max_depth=33, min_samples_leaf=6"
   ]
  },
  {
   "cell_type": "code",
   "execution_count": 22,
   "metadata": {},
   "outputs": [
    {
     "name": "stdout",
     "output_type": "stream",
     "text": [
      "(0.66004000198079149, 1)\n",
      "[(0.59419441653427651, 6), (0.61251630897717746, 9), (0.61338597870673628, 2), (0.61684850434850436, 3), (0.61834813815077294, 7), (0.62047551482940611, 8), (0.62388381026277107, 7), (0.63024275984802303, 4), (0.63144027866250085, 5), (0.63167871208713011, 6), (0.63240709878398327, 5), (0.6356149205360454, 6), (0.63628843803560076, 4), (0.63742999054701632, 5), (0.64396397848581055, 3), (0.65176033741748363, 1), (0.6519535103840145, 2), (0.66004000198079149, 1)]\n"
     ]
    }
   ],
   "source": [
    "print max(aucs)\n",
    "aucs.sort()\n",
    "print aucs"
   ]
  },
  {
   "cell_type": "code",
   "execution_count": 9,
   "metadata": {},
   "outputs": [],
   "source": [
    "from sklearn.ensemble import GradientBoostingClassifier\n",
    "aucs = []"
   ]
  },
  {
   "cell_type": "code",
   "execution_count": 11,
   "metadata": {},
   "outputs": [
    {
     "name": "stdout",
     "output_type": "stream",
     "text": [
      "[0.6107729762629337, 0.61289823693164247, 0.64127745128363756, 0.58875878220140498, 0.59274004683840742, 0.5406713505074161] 1\n",
      "[0.69772727272727264, 0.57410714285714293, 0.56055194805194808, 0.57946428571428565, 0.62194922194922186, 0.51678951678951679] 2\n",
      "[0.66791277258566983, 0.55747663551401883, 0.65373831775700941, 0.56666666666666676, 0.67138364779874216, 0.54308176100628924] 3\n",
      "[0.63652453740949322, 0.55237329042638772, 0.56018518518518523, 0.54894179894179895, 0.57705026455026454, 0.59804894179894186] 4\n",
      "[0.65322066326530615, 0.72987012987012978, 0.64496753246753247, 0.6183456183456183, 0.55937755937755929, 0.6440622440622441] 5\n",
      "[0.59805194805194806, 0.60081168831168841, 0.64366883116883111, 0.54496753246753249, 0.6243386243386243, 0.62797619047619058] 6\n",
      "[0.57905844155844155, 0.52240259740259753, 0.58076298701298701, 0.5345779220779221, 0.61932841932841942, 0.56625716625716627] 7\n",
      "[0.67496012759170654, 0.6066985645933014, 0.6843700159489633, 0.71594896331738433, 0.64590375020119106, 0.6795428939320779] 8\n",
      "[0.60139196456817456, 0.63302752293577991, 0.64370452388484656, 0.61800063271116734, 0.58794685226194243, 0.55344379467186477] 9\n"
     ]
    },
    {
     "ename": "MemoryError",
     "evalue": "",
     "output_type": "error",
     "traceback": [
      "\u001b[1;31m---------------------------------------------------------------------------\u001b[0m",
      "\u001b[1;31mMemoryError\u001b[0m                               Traceback (most recent call last)",
      "\u001b[1;32m<ipython-input-11-acf39a4522e3>\u001b[0m in \u001b[0;36m<module>\u001b[1;34m()\u001b[0m\n\u001b[0;32m      3\u001b[0m \u001b[1;32mfor\u001b[0m \u001b[0mj\u001b[0m \u001b[1;32min\u001b[0m \u001b[0mrange\u001b[0m\u001b[1;33m(\u001b[0m\u001b[1;36m1\u001b[0m\u001b[1;33m,\u001b[0m\u001b[1;36m50\u001b[0m\u001b[1;33m,\u001b[0m\u001b[1;36m1\u001b[0m\u001b[1;33m)\u001b[0m\u001b[1;33m:\u001b[0m\u001b[1;33m\u001b[0m\u001b[0m\n\u001b[0;32m      4\u001b[0m     \u001b[0maucs_j\u001b[0m \u001b[1;33m=\u001b[0m \u001b[1;33m[\u001b[0m\u001b[1;33m]\u001b[0m\u001b[1;33m\u001b[0m\u001b[0m\n\u001b[1;32m----> 5\u001b[1;33m     \u001b[0mfiltered_X\u001b[0m\u001b[1;33m,\u001b[0m\u001b[0mdf_Y\u001b[0m \u001b[1;33m=\u001b[0m \u001b[0mml\u001b[0m\u001b[1;33m.\u001b[0m\u001b[0mshuffleData\u001b[0m\u001b[1;33m(\u001b[0m\u001b[0mfiltered_X\u001b[0m\u001b[1;33m,\u001b[0m\u001b[0mdf_Y\u001b[0m\u001b[1;33m)\u001b[0m\u001b[1;33m\u001b[0m\u001b[0m\n\u001b[0m\u001b[0;32m      6\u001b[0m     \u001b[0mfiltered_x\u001b[0m \u001b[1;33m=\u001b[0m \u001b[0mpd\u001b[0m\u001b[1;33m.\u001b[0m\u001b[0mDataFrame\u001b[0m\u001b[1;33m(\u001b[0m\u001b[0mfiltered_X\u001b[0m\u001b[1;33m[\u001b[0m\u001b[1;33m:\u001b[0m\u001b[1;36m1000\u001b[0m\u001b[1;33m]\u001b[0m\u001b[1;33m)\u001b[0m\u001b[1;33m\u001b[0m\u001b[0m\n\u001b[0;32m      7\u001b[0m     \u001b[0mdf_y\u001b[0m \u001b[1;33m=\u001b[0m \u001b[0mpd\u001b[0m\u001b[1;33m.\u001b[0m\u001b[0mDataFrame\u001b[0m\u001b[1;33m(\u001b[0m\u001b[0mdf_Y\u001b[0m\u001b[1;33m[\u001b[0m\u001b[1;33m:\u001b[0m\u001b[1;36m1000\u001b[0m\u001b[1;33m]\u001b[0m\u001b[1;33m)\u001b[0m\u001b[1;33m\u001b[0m\u001b[0m\n",
      "\u001b[1;32mC:\\Users\\craut\\Documents\\Documents\\UCI\\2017-2018\\Winter\\CS 178\\final_project\\CS178-easy_DP\\mltools\\utils.pyc\u001b[0m in \u001b[0;36mshuffleData\u001b[1;34m(X, Y)\u001b[0m\n\u001b[0;32m    161\u001b[0m \u001b[1;33m\u001b[0m\u001b[0m\n\u001b[0;32m    162\u001b[0m     \u001b[0mpi\u001b[0m \u001b[1;33m=\u001b[0m \u001b[0mnp\u001b[0m\u001b[1;33m.\u001b[0m\u001b[0mrandom\u001b[0m\u001b[1;33m.\u001b[0m\u001b[0mpermutation\u001b[0m\u001b[1;33m(\u001b[0m\u001b[0mnx\u001b[0m\u001b[1;33m)\u001b[0m\u001b[1;33m\u001b[0m\u001b[0m\n\u001b[1;32m--> 163\u001b[1;33m     \u001b[0mX\u001b[0m \u001b[1;33m=\u001b[0m \u001b[0mX\u001b[0m\u001b[1;33m[\u001b[0m\u001b[0mpi\u001b[0m\u001b[1;33m,\u001b[0m\u001b[1;33m:\u001b[0m\u001b[1;33m]\u001b[0m\u001b[1;33m\u001b[0m\u001b[0m\n\u001b[0m\u001b[0;32m    164\u001b[0m \u001b[1;33m\u001b[0m\u001b[0m\n\u001b[0;32m    165\u001b[0m     \u001b[1;32mif\u001b[0m \u001b[0mny\u001b[0m \u001b[1;33m>\u001b[0m \u001b[1;36m0\u001b[0m\u001b[1;33m:\u001b[0m\u001b[1;33m\u001b[0m\u001b[0m\n",
      "\u001b[1;31mMemoryError\u001b[0m: "
     ]
    }
   ],
   "source": [
    "filtered_X = filtered_X.values\n",
    "df_Y = df_Y.values\n",
    "for j in range(1,50,1):    \n",
    "    aucs_j = []\n",
    "    filtered_X,df_Y = ml.shuffleData(filtered_X,df_Y)\n",
    "    filtered_x = pd.DataFrame(filtered_X[:1000])\n",
    "    df_y = pd.DataFrame(df_Y[:1000])\n",
    "    clf = GradientBoostingClassifier(max_depth=j,min_samples_leaf=1)\n",
    "    for train, test in cv.split(filtered_x, df_y):\n",
    "        clf = clf.fit(filtered_x.iloc[train],df_y.iloc[train])\n",
    "        probs = clf.predict_proba(filtered_x.iloc[test])\n",
    "        fpr, tpr, thresholds = roc_curve(df_y.iloc[test], probs[:, 1])\n",
    "        aucs_j.append(auc(fpr,tpr))\n",
    "    print aucs_j,j\n",
    "    aucs.append((np.mean(aucs_j),j))\n",
    "    if len(aucs) > 1 and max(aucs[:-1])[0]-aucs[-1][0] > 0.1:\n",
    "        break;\n",
    "print aucs"
   ]
  },
  {
   "cell_type": "code",
   "execution_count": null,
   "metadata": {},
   "outputs": [],
   "source": [
    "np.mean(aucs_j)"
   ]
  }
 ],
 "metadata": {
  "kernelspec": {
   "display_name": "Python 2",
   "language": "python",
   "name": "python2"
  },
  "language_info": {
   "codemirror_mode": {
    "name": "ipython",
    "version": 2
   },
   "file_extension": ".py",
   "mimetype": "text/x-python",
   "name": "python",
   "nbconvert_exporter": "python",
   "pygments_lexer": "ipython2",
   "version": "2.7.14"
  }
 },
 "nbformat": 4,
 "nbformat_minor": 2
}
