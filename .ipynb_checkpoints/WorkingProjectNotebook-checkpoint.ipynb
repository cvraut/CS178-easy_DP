{
 "cells": [
  {
   "cell_type": "code",
   "execution_count": 1,
   "metadata": {},
   "outputs": [],
   "source": [
    "from __future__ import division\n",
    "\n",
    "import numpy as np\n",
    "import matplotlib.pyplot as plt\n",
    "import mltools as ml\n",
    "import time\n",
    "\n",
    "\n",
    "np.random.seed(0)\n",
    "%matplotlib inline"
   ]
  },
  {
   "cell_type": "code",
   "execution_count": 2,
   "metadata": {},
   "outputs": [],
   "source": [
    "X = np.genfromtxt('data/X_train.txt', delimiter=None)\n",
    "Y = np.genfromtxt('data/Y_train.txt', delimiter=None)\n",
    "X,Y = ml.shuffleData(X,Y)"
   ]
  },
  {
   "cell_type": "code",
   "execution_count": 3,
   "metadata": {},
   "outputs": [
    {
     "name": "stdout",
     "output_type": "stream",
     "text": [
      "Feature #  1\n",
      "    min:      193.5\n",
      "    max:      253.0\n",
      "    mean:     241.6011037\n",
      "    variance: 83.4991711498\n",
      "Feature #  2\n",
      "    min:      152.5\n",
      "    max:      249.0\n",
      "    mean:     227.3765713\n",
      "    variance: 92.625593125\n",
      "Feature #  3\n",
      "    min:      214.25\n",
      "    max:      252.5\n",
      "    mean:     241.5541505\n",
      "    variance: 35.2863398033\n",
      "Feature #  4\n",
      "    min:      152.5\n",
      "    max:      252.5\n",
      "    mean:     232.82676815\n",
      "    variance: 97.6257317486\n",
      "Feature #  5\n",
      "    min:      10.0\n",
      "    max:      31048.0\n",
      "    mean:     3089.923365\n",
      "    variance: 15651513.7564\n",
      "Feature #  6\n",
      "    min:      0.0\n",
      "    max:      13630.0\n",
      "    mean:     928.25902\n",
      "    variance: 3081761.81695\n",
      "Feature #  7\n",
      "    min:      0.0\n",
      "    max:      9238.0\n",
      "    mean:     138.09383\n",
      "    variance: 443951.746446\n",
      "Feature #  8\n",
      "    min:      0.0\n",
      "    max:      125.17\n",
      "    mean:     3.2485793303\n",
      "    variance: 8.21948502491\n",
      "Feature #  9\n",
      "    min:      0.87589\n",
      "    max:      19.167\n",
      "    mean:     6.49865290275\n",
      "    variance: 6.40504819136\n",
      "Feature # 10\n",
      "    min:      0.0\n",
      "    max:      13.23\n",
      "    mean:     2.09713912048\n",
      "    variance: 4.36344047061\n",
      "Feature # 11\n",
      "    min:      0.0\n",
      "    max:      66.761\n",
      "    mean:     4.21766040935\n",
      "    variance: 4.08637188423\n",
      "Feature # 12\n",
      "    min:      0.0\n",
      "    max:      73.902\n",
      "    mean:     2.69171845215\n",
      "    variance: 2.19877847436\n",
      "Feature # 13\n",
      "    min:      0.99049\n",
      "    max:      975.04\n",
      "    mean:     10.2715904759\n",
      "    variance: 404.646245041\n",
      "Feature # 14\n",
      "    min:      -999.9\n",
      "    max:      797.2\n",
      "    mean:     5.7814805\n",
      "    variance: 3406.52055098\n"
     ]
    }
   ],
   "source": [
    "for f in range(X.shape[1]):\n",
    "    print \"Feature #{:3d}\".format(f+1)\n",
    "    print \"    min:      {}\".format(min(X[:,f]))\n",
    "    print \"    max:      {}\".format(max(X[:,f]))\n",
    "    print \"    mean:     {}\".format(np.mean(X[:,f]))\n",
    "    print \"    variance: {}\".format(np.var(X[:,f]))"
   ]
  },
  {
   "cell_type": "markdown",
   "metadata": {},
   "source": [
    "so yeah this is just the reading input part done..."
   ]
  }
 ],
 "metadata": {
  "kernelspec": {
   "display_name": "Python 2",
   "language": "python",
   "name": "python2"
  },
  "language_info": {
   "codemirror_mode": {
    "name": "ipython",
    "version": 2
   },
   "file_extension": ".py",
   "mimetype": "text/x-python",
   "name": "python",
   "nbconvert_exporter": "python",
   "pygments_lexer": "ipython2",
   "version": "2.7.14"
  }
 },
 "nbformat": 4,
 "nbformat_minor": 2
}
